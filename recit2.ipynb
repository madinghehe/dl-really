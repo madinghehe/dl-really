{
 "cells": [
  {
   "cell_type": "code",
   "execution_count": 83,
   "metadata": {
    "collapsed": false
   },
   "outputs": [
    {
     "data": {
      "text/plain": [
       "Net (\n",
       "  (conv1): Conv2d(1, 6, kernel_size=(5, 5), stride=(1, 1))\n",
       "  (conv2): Conv2d(6, 16, kernel_size=(5, 5), stride=(1, 1))\n",
       "  (fc1): Linear (256 -> 128)\n",
       "  (fc2): Linear (128 -> 64)\n",
       "  (fc3): Linear (64 -> 10)\n",
       ")"
      ]
     },
     "execution_count": 83,
     "metadata": {},
     "output_type": "execute_result"
    }
   ],
   "source": [
    "import torch.nn as nn\n",
    "import torch.nn.functional as F\n",
    "import torch.autograd as autograd\n",
    "from torch.autograd import Variable\n",
    "\n",
    "#Neural Network\n",
    "class Net(nn.Module):\n",
    "    def __init__(self):\n",
    "        super(Net, self).__init__()\n",
    "        self.conv1 = nn.Conv2d(in_channels=1, out_channels=6, kernel_size=5)\n",
    "        self.conv2 = nn.Conv2d(in_channels=6, out_channels=16, kernel_size=5)\n",
    "        self.fc1 = nn.Linear(in_features=16*4*4, out_features=128)\n",
    "        self.fc2 = nn.Linear(in_features=128, out_features=64)\n",
    "        self.fc3 = nn.Linear(in_features=64, out_features=10)\n",
    "        \n",
    "    def forward(self, x):\n",
    "        x = F.max_pool2d(F.relu(self.conv1(x)), 2)\n",
    "        x = F.max_pool2d(F.relu(self.conv2(x)), 2)\n",
    "        x = x.view(-1, self.num_flat_features(x))\n",
    "        x = F.relu(self.fc1(x))\n",
    "        x = F.relu(self.fc2(x))\n",
    "        x = self.fc3(x)\n",
    "        return x\n",
    "        \n",
    "    def num_flat_features(self, x):\n",
    "        #multiply the dimensions except first\n",
    "        sz = x.size()[1:]\n",
    "        s = reduce(lambda p, q : p*q, sz)\n",
    "        #print('s', s)\n",
    "        return s\n",
    "    \n",
    "net = Net()\n",
    "net"
   ]
  },
  {
   "cell_type": "code",
   "execution_count": 87,
   "metadata": {
    "collapsed": false
   },
   "outputs": [
    {
     "name": "stdout",
     "output_type": "stream",
     "text": [
      "Files already downloaded\n",
      "Files already downloaded\n",
      "train size: 60000, 28, 28\n",
      "('one batch images size:', torch.Size([4, 1, 28, 28]))\n",
      "('labels:', \n",
      " 3\n",
      " 3\n",
      " 5\n",
      " 6\n",
      "[torch.LongTensor of size 4]\n",
      ")\n"
     ]
    },
    {
     "data": {
      "image/png": "[encoded data removed]",
      "text/plain": [
       "<matplotlib.figure.Figure at 0x10de8e4d0>"
      ]
     },
     "metadata": {},
     "output_type": "display_data"
    }
   ],
   "source": [
    "import torch\n",
    "\n",
    "#MNIST data\n",
    "import torchvision\n",
    "import torchvision.transforms as transforms\n",
    "transform = transforms.Compose(\n",
    "    [transforms.ToTensor(), transforms.Normalize((0.5, 0.5, 0.5), (0.5, 0.5, 0.5))]\n",
    ")\n",
    "\n",
    "trainset = torchvision.datasets.MNIST(root='./mnist', download=True, train=True, transform=transform)\n",
    "trainloader = torch.utils.data.DataLoader(trainset, batch_size=4, shuffle=True, num_workers=2)\n",
    "\n",
    "testset = torchvision.datasets.MNIST(root='./mnist', download=True, train=False, transform=transform)\n",
    "testloader = torch.utils.data.DataLoader(testset, shuffle=False, batch_size=4, num_workers=2)\n",
    "\n",
    "print('train size: %d, %d, %d' % trainset.train_data.size())\n",
    "print('one batch images size:', images.size())\n",
    "\n",
    "import matplotlib.pyplot as plt\n",
    "import numpy as np\n",
    "%matplotlib inline\n",
    "def imshow(img):\n",
    "    img = img/2 + 0.5\n",
    "    npimg = img.numpy()\n",
    "    plt.imshow(np.transpose(npimg, (1,2,0)))\n",
    "\n",
    "dataiter = iter(trainloader)\n",
    "images, labels = dataiter.next()\n",
    "\n",
    "imshow(torchvision.utils.make_grid(images, padding=1, nrow=4))\n",
    "#print('labels:', labels)\n",
    "#classes = ('plane', 'car', 'bird', 'cat', 'deer', 'dog', 'frog', 'horse', 'ship', 'truck')\n"
   ]
  },
  {
   "cell_type": "code",
   "execution_count": 104,
   "metadata": {
    "collapsed": false
   },
   "outputs": [
    {
     "name": "stdout",
     "output_type": "stream",
     "text": [
      "('len of params: ', 10)\n",
      "('size of ', 0, ' params: ', torch.Size([6, 1, 5, 5]))\n",
      "('size of ', 1, ' params: ', torch.Size([6]))\n",
      "('size of ', 2, ' params: ', torch.Size([16, 6, 5, 5]))\n",
      "('size of ', 3, ' params: ', torch.Size([16]))\n",
      "('size of ', 4, ' params: ', torch.Size([128, 256]))\n",
      "('size of ', 5, ' params: ', torch.Size([128]))\n",
      "('size of ', 6, ' params: ', torch.Size([64, 128]))\n",
      "('size of ', 7, ' params: ', torch.Size([64]))\n",
      "('size of ', 8, ' params: ', torch.Size([10, 64]))\n",
      "('size of ', 9, ' params: ', torch.Size([10]))\n",
      "[    0     0] loss: 0.000\n",
      "('conv1 bias grad', Variable containing:\n",
      "(0 ,0 ,.,.) = \n",
      "1.00000e-04 *\n",
      "  -0.5132 -0.3480  0.5658  0.8013  0.8184\n",
      "  -1.1286 -0.9824  0.0692  0.8672  0.9121\n",
      "  -0.7323 -0.5038 -0.0347  0.4920  0.4094\n",
      "  -0.1709 -0.4424 -0.1981  0.2579  0.2253\n",
      "  -0.3020 -0.3969 -0.1768 -0.2382  0.0665\n",
      "\n",
      "(1 ,0 ,.,.) = \n",
      "1.00000e-04 *\n",
      "   2.1214  2.1474  2.2677  0.6894  0.1448\n",
      "   2.0182  2.3694  1.9089  0.4018 -0.1687\n",
      "   2.2005  1.9924  0.6993 -0.5022 -0.1594\n",
      "   2.1508  1.0663  1.1278  0.5548  0.8932\n",
      "   1.4196  1.3653  1.3949  1.7552  1.3243\n",
      "\n",
      "(2 ,0 ,.,.) = \n",
      "1.00000e-04 *\n",
      "  -1.1078 -2.1580 -3.1788 -2.6748 -2.9332\n",
      "  -0.6554 -1.0586 -1.3220 -1.2673 -1.8695\n",
      "   1.1847  0.4240  0.4530 -0.1203 -0.2769\n",
      "   1.9668  1.0355 -0.3793 -0.7259 -0.7905\n",
      "  -0.3269 -1.8849 -2.2327 -1.8792 -1.7234\n",
      "\n",
      "(3 ,0 ,.,.) = \n",
      "1.00000e-04 *\n",
      "  -0.4251 -0.5788 -0.5154 -0.0726  0.1458\n",
      "  -0.4207 -0.4869 -0.4168  0.4204  0.9463\n",
      "  -0.2746 -0.3063  0.1050  0.4583  1.0083\n",
      "  -0.3321 -0.3710 -0.2211  0.2061  0.7606\n",
      "  -0.2246 -0.5187 -0.5242 -0.2864  0.2295\n",
      "\n",
      "(4 ,0 ,.,.) = \n",
      "1.00000e-04 *\n",
      "  -1.3946 -1.5685 -1.8157 -1.5940 -0.3075\n",
      "  -0.2705 -0.8606 -0.4054 -0.4576  0.8812\n",
      "   0.7088  0.9769  0.7664  0.4626  0.5823\n",
      "   0.9587  0.6727  0.2098 -0.3227 -0.4556\n",
      "   1.0853  1.4287  0.4867  0.1301 -0.0708\n",
      "\n",
      "(5 ,0 ,.,.) = \n",
      "1.00000e-04 *\n",
      "  -0.1831 -0.2188  0.2955 -0.2406 -0.8931\n",
      "   1.0354  1.5647  1.7104  0.8896 -0.1910\n",
      "   1.5553  1.3656  0.6739 -0.5346 -1.3276\n",
      "   0.5947  0.5695  0.2834 -0.4189 -1.3410\n",
      "   0.1815  0.0446  0.1719 -0.4553 -0.9568\n",
      "[torch.FloatTensor of size 6x1x5x5]\n",
      ")\n",
      "[    0  2000] loss: 0.015\n",
      "('conv1 bias grad', Variable containing:\n",
      "(0 ,0 ,.,.) = \n",
      "1.00000e-05 *\n",
      "   0.0060  0.2444  0.6019  0.3970 -0.4048\n",
      "   0.5754  0.7457  0.8059  0.1854 -0.7095\n",
      "   0.6866  0.6760  0.5533 -0.4953 -1.3334\n",
      "   0.6818  0.7506  0.4579 -0.7700 -1.0578\n",
      "   0.6775  0.6135  0.2796 -0.8554 -0.6792\n",
      "\n",
      "(1 ,0 ,.,.) = \n",
      "1.00000e-05 *\n",
      "   0.2731  1.1624  0.7447  0.5352 -0.7556\n",
      "  -1.1837 -1.4918 -1.3250 -0.4510 -0.3883\n",
      "  -1.1657  0.2955  2.0013  2.9995  2.4828\n",
      "   0.5266  2.6494  3.2425  3.7964  3.5974\n",
      "   2.0266  3.4873  3.9924  4.0840  3.7316\n",
      "\n",
      "(2 ,0 ,.,.) = \n",
      "1.00000e-05 *\n",
      "  -1.5118 -1.5324 -1.9159 -2.7695 -4.6810\n",
      "  -0.0905  0.0777 -0.0768 -1.6854 -4.1553\n",
      "   0.6528  0.8712  0.9730 -1.0746 -2.8066\n",
      "   2.0511  2.7493  3.1758  0.1186 -1.2245\n",
      "   3.6042  4.3591  3.6470 -0.2837 -1.2090\n",
      "\n",
      "(3 ,0 ,.,.) = \n",
      "1.00000e-05 *\n",
      "   0.2832  0.2376  0.2759 -0.6026 -2.1806\n",
      "   1.0389  1.2858  1.1988 -0.0062 -1.9092\n",
      "   1.7046  1.6429  1.4997 -0.0163 -1.5383\n",
      "   2.1184  2.1251  1.9587  0.4788 -1.0313\n",
      "   2.3306  2.2326  2.0307  0.4034 -0.6717\n",
      "\n",
      "(4 ,0 ,.,.) = \n",
      "1.00000e-05 *\n",
      "   0.4006 -0.2021 -0.3580 -0.1656 -0.3317\n",
      "   0.5634 -0.0739 -0.0744  0.1331 -0.1121\n",
      "   0.3157 -0.1331  0.0355  0.1617 -0.1257\n",
      "  -0.4241 -0.6767 -0.4348 -0.0037 -0.3571\n",
      "  -1.2747 -1.2846 -1.3493 -0.7376 -0.9517\n",
      "\n",
      "(5 ,0 ,.,.) = \n",
      "1.00000e-05 *\n",
      "  -2.1699 -2.2340 -1.2781  0.2288  0.3831\n",
      "  -3.7019 -3.2700 -1.3165  1.2291  1.3605\n",
      "  -3.4244 -3.0707 -0.0450  2.6794  0.5356\n",
      "  -4.1908 -3.6733 -0.7298  0.6585 -2.0614\n",
      "  -4.7367 -2.8334 -0.3488  0.2931 -2.5156\n",
      "[torch.FloatTensor of size 6x1x5x5]\n",
      ")\n",
      "[    0  4000] loss: 0.015\n",
      "('conv1 bias grad', Variable containing:\n",
      "(0 ,0 ,.,.) = \n",
      "1.00000e-04 *\n",
      "   0.3790  0.4641  0.6271  0.6827  0.4353\n",
      "   0.7006  0.7591  0.7663  0.2858 -0.2256\n",
      "   0.8186  1.0731  0.8533  0.0946 -0.7633\n",
      "   0.7472  1.1539  0.5935 -0.5298 -1.6529\n",
      "   0.6228  0.7378  0.3690 -0.6593 -1.4405\n",
      "\n",
      "(1 ,0 ,.,.) = \n",
      "1.00000e-04 *\n",
      "  -1.5796 -1.3124 -0.3268  0.3553  0.6297\n",
      "  -1.0413 -0.6444  0.0583  0.0842 -0.2546\n",
      "  -0.0009  0.3389  0.0379 -0.0132 -0.6127\n",
      "   0.2583  0.1693 -0.1875 -0.2255 -0.9524\n",
      "  -0.4933 -0.3755 -0.3300 -0.5877 -0.8801\n",
      "\n",
      "(2 ,0 ,.,.) = \n",
      "1.00000e-04 *\n",
      "   2.0268  2.1253  1.5539  0.4481 -0.3171\n",
      "   1.9191  2.0318  1.0681 -0.0288 -1.2448\n",
      "   1.1537  1.0589 -0.0881 -1.0291 -1.0806\n",
      "   0.9211  0.1187 -0.6316 -1.1756 -0.7014\n",
      "   0.8524  0.6148  0.1240 -0.0342  0.7144\n",
      "\n",
      "(3 ,0 ,.,.) = \n",
      "1.00000e-04 *\n",
      "   0.0931  0.2216  0.2463  0.2198  0.3340\n",
      "   0.4508  0.5974  0.5364  0.4350  0.2047\n",
      "   0.7142  0.8234  0.7854  0.7418  0.5323\n",
      "   0.7721  0.8963  0.8588  0.5992  0.1542\n",
      "   1.0278  0.9881  0.7439  0.5263  0.1719\n",
      "\n",
      "(4 ,0 ,.,.) = \n",
      "1.00000e-04 *\n",
      "   0.7777  0.8196  1.0066  1.3943  1.7358\n",
      "   0.9585  0.8331  0.9897  1.0527  1.2048\n",
      "   1.1706  1.1882  1.4107  1.3348  0.8901\n",
      "   1.4027  1.5039  1.1898  1.0960  0.7940\n",
      "   0.6166  0.5615  0.2683  0.7654  0.7188\n",
      "\n",
      "(5 ,0 ,.,.) = \n",
      "1.00000e-04 *\n",
      "  -0.0109 -0.0509 -0.2116 -0.2433 -0.2534\n",
      "   0.1221  0.4495  0.6416  0.5121  0.1890\n",
      "   0.1797  0.4665  0.3108  0.5834  0.7325\n",
      "   0.3454  0.5377  0.2491  0.3548  0.3701\n",
      "   0.2128  0.1419 -0.1605  0.0131  0.2405\n",
      "[torch.FloatTensor of size 6x1x5x5]\n",
      ")\n"
     ]
    },
    {
     "name": "stderr",
     "output_type": "stream",
     "text": [
      "Process Process-62:\n",
      "Process Process-61:\n",
      "Traceback (most recent call last):\n",
      "  File \"/Users/vmullachery/anaconda/envs/deeplearn/lib/python2.7/multiprocessing/queues.py\", line 378, in get\n",
      "Traceback (most recent call last):\n",
      "  File \"/Users/vmullachery/anaconda/envs/deeplearn/lib/python2.7/multiprocessing/process.py\", line 258, in _bootstrap\n",
      "  File \"/Users/vmullachery/anaconda/envs/deeplearn/lib/python2.7/multiprocessing/process.py\", line 258, in _bootstrap\n",
      "    self.run()\n",
      "    self.run()\n",
      "  File \"/Users/vmullachery/anaconda/envs/deeplearn/lib/python2.7/multiprocessing/process.py\", line 114, in run\n",
      "  File \"/Users/vmullachery/anaconda/envs/deeplearn/lib/python2.7/multiprocessing/process.py\", line 114, in run\n",
      "    self._target(*self._args, **self._kwargs)\n",
      "    self._target(*self._args, **self._kwargs)\n",
      "  File \"/Users/vmullachery/anaconda/envs/deeplearn/lib/python2.7/site-packages/torch/utils/data/dataloader.py\", line 36, in _worker_loop\n",
      "  File \"/Users/vmullachery/anaconda/envs/deeplearn/lib/python2.7/site-packages/torch/utils/data/dataloader.py\", line 26, in _worker_loop\n",
      "    r = index_queue.get()\n",
      "    data_queue.put((idx, samples))\n",
      "  File \"/Users/vmullachery/anaconda/envs/deeplearn/lib/python2.7/multiprocessing/queues.py\", line 392, in put\n",
      "    return send(obj)\n",
      "    return recv()\n",
      "  File \"/Users/vmullachery/anaconda/envs/deeplearn/lib/python2.7/site-packages/torch/multiprocessing/queue.py\", line 17, in send\n",
      "  File \"/Users/vmullachery/anaconda/envs/deeplearn/lib/python2.7/site-packages/torch/multiprocessing/queue.py\", line 21, in recv\n",
      "    buf = self.recv_bytes()\n",
      "    ForkingPickler(buf, pickle.HIGHEST_PROTOCOL).dump(obj)\n"
     ]
    },
    {
     "ename": "KeyboardInterrupt",
     "evalue": "",
     "output_type": "error",
     "traceback": [
      "\u001b[0;31m---------------------------------------------------------------------------\u001b[0m",
      "\u001b[0;31mKeyboardInterrupt\u001b[0m                         Traceback (most recent call last)",
      "\u001b[0;32m<ipython-input-104-124857ffae7a>\u001b[0m in \u001b[0;36m<module>\u001b[0;34m()\u001b[0m\n\u001b[1;32m     14\u001b[0m         \u001b[0minputs\u001b[0m\u001b[0;34m,\u001b[0m \u001b[0mlabels\u001b[0m \u001b[0;34m=\u001b[0m \u001b[0mVariable\u001b[0m\u001b[0;34m(\u001b[0m\u001b[0minputs\u001b[0m\u001b[0;34m)\u001b[0m\u001b[0;34m,\u001b[0m \u001b[0mVariable\u001b[0m\u001b[0;34m(\u001b[0m\u001b[0mlabels\u001b[0m\u001b[0;34m)\u001b[0m\u001b[0;34m\u001b[0m\u001b[0m\n\u001b[1;32m     15\u001b[0m         \u001b[0moptimizer\u001b[0m\u001b[0;34m.\u001b[0m\u001b[0mzero_grad\u001b[0m\u001b[0;34m(\u001b[0m\u001b[0;34m)\u001b[0m\u001b[0;34m\u001b[0m\u001b[0m\n\u001b[0;32m---> 16\u001b[0;31m         \u001b[0moutput\u001b[0m \u001b[0;34m=\u001b[0m \u001b[0mnet\u001b[0m\u001b[0;34m(\u001b[0m\u001b[0minputs\u001b[0m\u001b[0;34m)\u001b[0m\u001b[0;34m\u001b[0m\u001b[0m\n\u001b[0m\u001b[1;32m     17\u001b[0m         \u001b[0mloss\u001b[0m \u001b[0;34m=\u001b[0m \u001b[0mcriterion\u001b[0m\u001b[0;34m(\u001b[0m\u001b[0moutput\u001b[0m\u001b[0;34m,\u001b[0m \u001b[0mlabels\u001b[0m\u001b[0;34m)\u001b[0m\u001b[0;34m\u001b[0m\u001b[0m\n\u001b[1;32m     18\u001b[0m         \u001b[0mloss\u001b[0m\u001b[0;34m.\u001b[0m\u001b[0mbackward\u001b[0m\u001b[0;34m(\u001b[0m\u001b[0;34m)\u001b[0m\u001b[0;34m\u001b[0m\u001b[0m\n",
      "\u001b[0;32m/Users/vmullachery/anaconda/envs/deeplearn/lib/python2.7/site-packages/torch/nn/modules/module.pyc\u001b[0m in \u001b[0;36m__call__\u001b[0;34m(self, *input, **kwargs)\u001b[0m\n\u001b[1;32m    208\u001b[0m \u001b[0;34m\u001b[0m\u001b[0m\n\u001b[1;32m    209\u001b[0m     \u001b[0;32mdef\u001b[0m \u001b[0m__call__\u001b[0m\u001b[0;34m(\u001b[0m\u001b[0mself\u001b[0m\u001b[0;34m,\u001b[0m \u001b[0;34m*\u001b[0m\u001b[0minput\u001b[0m\u001b[0;34m,\u001b[0m \u001b[0;34m**\u001b[0m\u001b[0mkwargs\u001b[0m\u001b[0;34m)\u001b[0m\u001b[0;34m:\u001b[0m\u001b[0;34m\u001b[0m\u001b[0m\n\u001b[0;32m--> 210\u001b[0;31m         \u001b[0mresult\u001b[0m \u001b[0;34m=\u001b[0m \u001b[0mself\u001b[0m\u001b[0;34m.\u001b[0m\u001b[0mforward\u001b[0m\u001b[0;34m(\u001b[0m\u001b[0;34m*\u001b[0m\u001b[0minput\u001b[0m\u001b[0;34m,\u001b[0m \u001b[0;34m**\u001b[0m\u001b[0mkwargs\u001b[0m\u001b[0;34m)\u001b[0m\u001b[0;34m\u001b[0m\u001b[0m\n\u001b[0m\u001b[1;32m    211\u001b[0m         \u001b[0;32mfor\u001b[0m \u001b[0mhook\u001b[0m \u001b[0;32min\u001b[0m \u001b[0mself\u001b[0m\u001b[0;34m.\u001b[0m\u001b[0m_forward_hooks\u001b[0m\u001b[0;34m.\u001b[0m\u001b[0mvalues\u001b[0m\u001b[0;34m(\u001b[0m\u001b[0;34m)\u001b[0m\u001b[0;34m:\u001b[0m\u001b[0;34m\u001b[0m\u001b[0m\n\u001b[1;32m    212\u001b[0m             \u001b[0mhook_result\u001b[0m \u001b[0;34m=\u001b[0m \u001b[0mhook\u001b[0m\u001b[0;34m(\u001b[0m\u001b[0mself\u001b[0m\u001b[0;34m,\u001b[0m \u001b[0minput\u001b[0m\u001b[0;34m,\u001b[0m \u001b[0mresult\u001b[0m\u001b[0;34m)\u001b[0m\u001b[0;34m\u001b[0m\u001b[0m\n",
      "\u001b[0;32m<ipython-input-83-8ed51e1fc0a2>\u001b[0m in \u001b[0;36mforward\u001b[0;34m(self, x)\u001b[0m\n\u001b[1;32m     16\u001b[0m     \u001b[0;32mdef\u001b[0m \u001b[0mforward\u001b[0m\u001b[0;34m(\u001b[0m\u001b[0mself\u001b[0m\u001b[0;34m,\u001b[0m \u001b[0mx\u001b[0m\u001b[0;34m)\u001b[0m\u001b[0;34m:\u001b[0m\u001b[0;34m\u001b[0m\u001b[0m\n\u001b[1;32m     17\u001b[0m         \u001b[0mx\u001b[0m \u001b[0;34m=\u001b[0m \u001b[0mF\u001b[0m\u001b[0;34m.\u001b[0m\u001b[0mmax_pool2d\u001b[0m\u001b[0;34m(\u001b[0m\u001b[0mF\u001b[0m\u001b[0;34m.\u001b[0m\u001b[0mrelu\u001b[0m\u001b[0;34m(\u001b[0m\u001b[0mself\u001b[0m\u001b[0;34m.\u001b[0m\u001b[0mconv1\u001b[0m\u001b[0;34m(\u001b[0m\u001b[0mx\u001b[0m\u001b[0;34m)\u001b[0m\u001b[0;34m)\u001b[0m\u001b[0;34m,\u001b[0m \u001b[0;36m2\u001b[0m\u001b[0;34m)\u001b[0m\u001b[0;34m\u001b[0m\u001b[0m\n\u001b[0;32m---> 18\u001b[0;31m         \u001b[0mx\u001b[0m \u001b[0;34m=\u001b[0m \u001b[0mF\u001b[0m\u001b[0;34m.\u001b[0m\u001b[0mmax_pool2d\u001b[0m\u001b[0;34m(\u001b[0m\u001b[0mF\u001b[0m\u001b[0;34m.\u001b[0m\u001b[0mrelu\u001b[0m\u001b[0;34m(\u001b[0m\u001b[0mself\u001b[0m\u001b[0;34m.\u001b[0m\u001b[0mconv2\u001b[0m\u001b[0;34m(\u001b[0m\u001b[0mx\u001b[0m\u001b[0;34m)\u001b[0m\u001b[0;34m)\u001b[0m\u001b[0;34m,\u001b[0m \u001b[0;36m2\u001b[0m\u001b[0;34m)\u001b[0m\u001b[0;34m\u001b[0m\u001b[0m\n\u001b[0m\u001b[1;32m     19\u001b[0m         \u001b[0mx\u001b[0m \u001b[0;34m=\u001b[0m \u001b[0mx\u001b[0m\u001b[0;34m.\u001b[0m\u001b[0mview\u001b[0m\u001b[0;34m(\u001b[0m\u001b[0;34m-\u001b[0m\u001b[0;36m1\u001b[0m\u001b[0;34m,\u001b[0m \u001b[0mself\u001b[0m\u001b[0;34m.\u001b[0m\u001b[0mnum_flat_features\u001b[0m\u001b[0;34m(\u001b[0m\u001b[0mx\u001b[0m\u001b[0;34m)\u001b[0m\u001b[0;34m)\u001b[0m\u001b[0;34m\u001b[0m\u001b[0m\n\u001b[1;32m     20\u001b[0m         \u001b[0mx\u001b[0m \u001b[0;34m=\u001b[0m \u001b[0mF\u001b[0m\u001b[0;34m.\u001b[0m\u001b[0mrelu\u001b[0m\u001b[0;34m(\u001b[0m\u001b[0mself\u001b[0m\u001b[0;34m.\u001b[0m\u001b[0mfc1\u001b[0m\u001b[0;34m(\u001b[0m\u001b[0mx\u001b[0m\u001b[0;34m)\u001b[0m\u001b[0;34m)\u001b[0m\u001b[0;34m\u001b[0m\u001b[0m\n",
      "\u001b[0;32m/Users/vmullachery/anaconda/envs/deeplearn/lib/python2.7/site-packages/torch/nn/functional.pyc\u001b[0m in \u001b[0;36mmax_pool2d\u001b[0;34m(input, kernel_size, stride, padding, dilation, ceil_mode, return_indices)\u001b[0m\n\u001b[1;32m    217\u001b[0m                ceil_mode=False, return_indices=False):\n\u001b[1;32m    218\u001b[0m     return _functions.thnn.MaxPool2d(kernel_size, stride, padding, dilation,\n\u001b[0;32m--> 219\u001b[0;31m                                      return_indices, ceil_mode)(input)\n\u001b[0m\u001b[1;32m    220\u001b[0m \u001b[0;34m\u001b[0m\u001b[0m\n\u001b[1;32m    221\u001b[0m \u001b[0;34m\u001b[0m\u001b[0m\n",
      "\u001b[0;32m/Users/vmullachery/anaconda/envs/deeplearn/lib/python2.7/site-packages/torch/nn/_functions/thnn/pooling.pyc\u001b[0m in \u001b[0;36mforward\u001b[0;34m(self, input)\u001b[0m\n\u001b[1;32m     70\u001b[0m     \u001b[0;32mdef\u001b[0m \u001b[0mforward\u001b[0m\u001b[0;34m(\u001b[0m\u001b[0mself\u001b[0m\u001b[0;34m,\u001b[0m \u001b[0minput\u001b[0m\u001b[0;34m)\u001b[0m\u001b[0;34m:\u001b[0m\u001b[0;34m\u001b[0m\u001b[0m\n\u001b[1;32m     71\u001b[0m         \u001b[0mbackend\u001b[0m \u001b[0;34m=\u001b[0m \u001b[0mtype2backend\u001b[0m\u001b[0;34m[\u001b[0m\u001b[0mtype\u001b[0m\u001b[0;34m(\u001b[0m\u001b[0minput\u001b[0m\u001b[0;34m)\u001b[0m\u001b[0;34m]\u001b[0m\u001b[0;34m\u001b[0m\u001b[0m\n\u001b[0;32m---> 72\u001b[0;31m         \u001b[0mindices\u001b[0m\u001b[0;34m,\u001b[0m \u001b[0moutput\u001b[0m \u001b[0;34m=\u001b[0m \u001b[0minput\u001b[0m\u001b[0;34m.\u001b[0m\u001b[0mnew\u001b[0m\u001b[0;34m(\u001b[0m\u001b[0;34m)\u001b[0m\u001b[0;34m.\u001b[0m\u001b[0mlong\u001b[0m\u001b[0;34m(\u001b[0m\u001b[0;34m)\u001b[0m\u001b[0;34m,\u001b[0m \u001b[0minput\u001b[0m\u001b[0;34m.\u001b[0m\u001b[0mnew\u001b[0m\u001b[0;34m(\u001b[0m\u001b[0;34m)\u001b[0m\u001b[0;34m\u001b[0m\u001b[0m\n\u001b[0m\u001b[1;32m     73\u001b[0m         backend.SpatialDilatedMaxPooling_updateOutput(backend.library_state,\n\u001b[1;32m     74\u001b[0m                 \u001b[0minput\u001b[0m\u001b[0;34m,\u001b[0m \u001b[0moutput\u001b[0m\u001b[0;34m,\u001b[0m \u001b[0mindices\u001b[0m\u001b[0;34m,\u001b[0m\u001b[0;34m\u001b[0m\u001b[0m\n",
      "\u001b[0;32m/Users/vmullachery/anaconda/envs/deeplearn/lib/python2.7/site-packages/torch/tensor.pyc\u001b[0m in \u001b[0;36mnew\u001b[0;34m(self, *args, **kwargs)\u001b[0m\n\u001b[1;32m     31\u001b[0m     \u001b[0;32mdef\u001b[0m \u001b[0mnew\u001b[0m\u001b[0;34m(\u001b[0m\u001b[0mself\u001b[0m\u001b[0;34m,\u001b[0m \u001b[0;34m*\u001b[0m\u001b[0margs\u001b[0m\u001b[0;34m,\u001b[0m \u001b[0;34m**\u001b[0m\u001b[0mkwargs\u001b[0m\u001b[0;34m)\u001b[0m\u001b[0;34m:\u001b[0m\u001b[0;34m\u001b[0m\u001b[0m\n\u001b[1;32m     32\u001b[0m         \u001b[0;34m\"\"\"Constructs a new tensor of the same data type.\"\"\"\u001b[0m\u001b[0;34m\u001b[0m\u001b[0m\n\u001b[0;32m---> 33\u001b[0;31m         \u001b[0;32mreturn\u001b[0m \u001b[0mself\u001b[0m\u001b[0;34m.\u001b[0m\u001b[0m__class__\u001b[0m\u001b[0;34m(\u001b[0m\u001b[0;34m*\u001b[0m\u001b[0margs\u001b[0m\u001b[0;34m,\u001b[0m \u001b[0;34m**\u001b[0m\u001b[0mkwargs\u001b[0m\u001b[0;34m)\u001b[0m\u001b[0;34m\u001b[0m\u001b[0m\n\u001b[0m\u001b[1;32m     34\u001b[0m \u001b[0;34m\u001b[0m\u001b[0m\n\u001b[1;32m     35\u001b[0m     \u001b[0;32mdef\u001b[0m \u001b[0mtype_as\u001b[0m\u001b[0;34m(\u001b[0m\u001b[0mself\u001b[0m\u001b[0;34m,\u001b[0m \u001b[0mtensor\u001b[0m\u001b[0;34m)\u001b[0m\u001b[0;34m:\u001b[0m\u001b[0;34m\u001b[0m\u001b[0m\n",
      "\u001b[0;31mKeyboardInterrupt\u001b[0m: "
     ]
    },
    {
     "name": "stderr",
     "output_type": "stream",
     "text": [
      "KeyboardInterrupt\n",
      "  File \"/Users/vmullachery/anaconda/envs/deeplearn/lib/python2.7/pickle.py\", line 224, in dump\n",
      "    self.save(obj)\n",
      "  File \"/Users/vmullachery/anaconda/envs/deeplearn/lib/python2.7/pickle.py\", line 286, in save\n",
      "    f(self, obj) # Call unbound method with explicit self\n",
      "  File \"/Users/vmullachery/anaconda/envs/deeplearn/lib/python2.7/pickle.py\", line 554, in save_tuple\n",
      "    save(element)\n",
      "  File \"/Users/vmullachery/anaconda/envs/deeplearn/lib/python2.7/pickle.py\", line 286, in save\n",
      "    f(self, obj) # Call unbound method with explicit self\n",
      "  File \"/Users/vmullachery/anaconda/envs/deeplearn/lib/python2.7/pickle.py\", line 606, in save_list\n",
      "    self._batch_appends(iter(obj))\n",
      "  File \"/Users/vmullachery/anaconda/envs/deeplearn/lib/python2.7/pickle.py\", line 639, in _batch_appends\n",
      "    save(x)\n",
      "  File \"/Users/vmullachery/anaconda/envs/deeplearn/lib/python2.7/pickle.py\", line 286, in save\n",
      "    f(self, obj) # Call unbound method with explicit self\n",
      "  File \"/Users/vmullachery/anaconda/envs/deeplearn/lib/python2.7/multiprocessing/forking.py\", line 67, in dispatcher\n",
      "    self.save_reduce(obj=obj, *rv)\n",
      "  File \"/Users/vmullachery/anaconda/envs/deeplearn/lib/python2.7/pickle.py\", line 401, in save_reduce\n",
      "    save(args)\n",
      "  File \"/Users/vmullachery/anaconda/envs/deeplearn/lib/python2.7/pickle.py\", line 286, in save\n",
      "    f(self, obj) # Call unbound method with explicit self\n",
      "  File \"/Users/vmullachery/anaconda/envs/deeplearn/lib/python2.7/pickle.py\", line 538, in save_tuple\n",
      "    def save_tuple(self, obj):\n",
      "KeyboardInterrupt\n"
     ]
    }
   ],
   "source": [
    "import torch.optim as optim\n",
    "\n",
    "criterion = nn.CrossEntropyLoss()\n",
    "optimizer = optim.SGD(net.parameters(), lr=0.001, momentum=0.9)\n",
    "params = list(net.parameters())\n",
    "print('len of params: ', len(params))\n",
    "for k in range(len(params)):\n",
    "    print('size of ',  k, ' params: ', params[k].size())\n",
    "    \n",
    "for epoch in range(2):\n",
    "    running_loss = 0.0\n",
    "    for i, data in enumerate(trainloader, 0):\n",
    "        inputs, labels = data\n",
    "        inputs, labels = Variable(inputs), Variable(labels)\n",
    "        optimizer.zero_grad()\n",
    "        output = net(inputs)\n",
    "        loss = criterion(output, labels)\n",
    "        loss.backward()\n",
    "        optimizer.step()\n",
    "        running_loss += loss.data[0]\n",
    "        if i % 2000 == 0:\n",
    "            print('[%5d %5d] loss: %.3f' % (epoch, i, running_loss/2000))\n",
    "            print('conv1 bias grad', list(net.conv1.parameters())[0].grad)\n",
    "            running_loss = 0\n",
    "print('Training complete')\n",
    "\n"
   ]
  },
  {
   "cell_type": "code",
   "execution_count": 89,
   "metadata": {
    "collapsed": false
   },
   "outputs": [
    {
     "name": "stdout",
     "output_type": "stream",
     "text": [
      "('Groundtruth:', '    7     2     1     0')\n",
      "('predicted: ', '    7     2     1     0')\n"
     ]
    },
    {
     "data": {
      "image/png": "[encoded data removed]",
      "text/plain": [
       "<matplotlib.figure.Figure at 0x11b003850>"
      ]
     },
     "metadata": {},
     "output_type": "display_data"
    }
   ],
   "source": [
    "dataiter = iter(testloader)\n",
    "images, labels = dataiter.next()\n",
    "\n",
    "imshow(torchvision.utils.make_grid(images))\n",
    "print('Groundtruth:', ' '.join('%5s' % labels[j] for j in range(4)))\n",
    "\n",
    "outputs = net(Variable(images))\n",
    "\n",
    "#outputs are the energies for the 10 class indexes\n",
    "_, predictions = torch.max(outputs.data, 1)\n",
    "print('predicted: ', ' '.join('%5s' % predictions[j][0] for j in range(4)))\n"
   ]
  },
  {
   "cell_type": "code",
   "execution_count": 90,
   "metadata": {
    "collapsed": false
   },
   "outputs": [
    {
     "name": "stdout",
     "output_type": "stream",
     "text": [
      "Accuracy: 98 %  \n"
     ]
    }
   ],
   "source": [
    "correct = 0\n",
    "total = 0\n",
    "for data in testloader:\n",
    "    images, labels = data\n",
    "    outputs = net(Variable(images))\n",
    "    _, predicted = torch.max(outputs.data, 1)\n",
    "    total += labels.size(0)\n",
    "    correct += (predicted == labels).sum()\n",
    "\n",
    "print('Accuracy: %d %%  ' % (100 * correct/total) )\n"
   ]
  },
  {
   "cell_type": "code",
   "execution_count": 35,
   "metadata": {
    "collapsed": false
   },
   "outputs": [
    {
     "name": "stdout",
     "output_type": "stream",
     "text": [
      " plane, class_correct    37%\n",
      "   car, class_correct    80%\n",
      "  bird, class_correct    36%\n",
      "   cat, class_correct    44%\n",
      "  deer, class_correct    35%\n",
      "   dog, class_correct    52%\n",
      "  frog, class_correct    68%\n",
      " horse, class_correct    57%\n",
      "  ship, class_correct    84%\n",
      " truck, class_correct    42%\n"
     ]
    }
   ],
   "source": [
    "class_correct = list(0. for i in range(10))\n",
    "class_total = list(0. for i in range(10))\n",
    "for data in testloader:\n",
    "    images, labels = data\n",
    "    outputs = net(Variable(images))\n",
    "    _, predictions = torch.max(outputs.data, 1)\n",
    "    c = (predictions == labels).squeeze()\n",
    "    #print('c', c)\n",
    "    for i, p in enumerate(predictions):\n",
    "        #print('p: ', p[0])\n",
    "        label = labels[i]\n",
    "        class_total[label] += 1\n",
    "        #class_correct[label] += (label == p[0])\n",
    "        class_correct[label] += (c[i])\n",
    "for i in range(10):\n",
    "    print(' %5s, class_correct %5d%%' % (classes[i], 100*class_correct[i]/class_total[i]))\n"
   ]
  },
  {
   "cell_type": "code",
   "execution_count": null,
   "metadata": {
    "collapsed": true
   },
   "outputs": [],
   "source": []
  }
 ],
 "metadata": {
  "anaconda-cloud": {},
  "kernelspec": {
   "display_name": "Python 2",
   "language": "python",
   "name": "python2"
  },
  "language_info": {
   "codemirror_mode": {
    "name": "ipython",
    "version": 2
   },
   "file_extension": ".py",
   "mimetype": "text/x-python",
   "name": "python",
   "nbconvert_exporter": "python",
   "pygments_lexer": "ipython2",
   "version": "2.7.13"
  }
 },
 "nbformat": 4,
 "nbformat_minor": 1
}
