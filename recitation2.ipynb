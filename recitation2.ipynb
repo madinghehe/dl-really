{
 "cells": [
  {
   "cell_type": "code",
   "execution_count": 1,
   "metadata": {
    "collapsed": false
   },
   "outputs": [
    {
     "data": {
      "text/plain": [
       "Net (\n",
       "  (conv1): Conv2d(1, 6, kernel_size=(5, 5), stride=(1, 1))\n",
       "  (conv2): Conv2d(6, 16, kernel_size=(5, 5), stride=(1, 1))\n",
       "  (fc1): Linear (256 -> 128)\n",
       "  (fc2): Linear (128 -> 64)\n",
       "  (fc3): Linear (64 -> 10)\n",
       ")"
      ]
     },
     "execution_count": 1,
     "metadata": {},
     "output_type": "execute_result"
    }
   ],
   "source": [
    "import torch.nn as nn\n",
    "import torch.nn.functional as F\n",
    "import torch.autograd as autograd\n",
    "from torch.autograd import Variable\n",
    "\n",
    "#Neural Network\n",
    "class Net(nn.Module):\n",
    "    def __init__(self):\n",
    "        super(Net, self).__init__()\n",
    "        self.conv1 = nn.Conv2d(in_channels=1, out_channels=6, kernel_size=5)\n",
    "        self.conv2 = nn.Conv2d(in_channels=6, out_channels=16, kernel_size=5)\n",
    "        self.fc1 = nn.Linear(in_features=16*4*4, out_features=128)\n",
    "        self.fc2 = nn.Linear(in_features=128, out_features=64)\n",
    "        self.fc3 = nn.Linear(in_features=64, out_features=10)\n",
    "        \n",
    "    def forward(self, x):\n",
    "        x = F.max_pool2d(F.relu(self.conv1(x)), 2)\n",
    "        x = F.max_pool2d(F.relu(self.conv2(x)), 2)\n",
    "        x = x.view(-1, self.num_flat_features(x))\n",
    "        x = F.relu(self.fc1(x))\n",
    "        x = F.relu(self.fc2(x))\n",
    "        x = self.fc3(x)\n",
    "        return x\n",
    "        \n",
    "    def num_flat_features(self, x):\n",
    "        #multiply the dimensions except first\n",
    "        sz = x.size()[1:]\n",
    "        s = reduce(lambda p, q : p*q, sz)\n",
    "        #print('s', s)\n",
    "        return s\n",
    "    \n",
    "net = Net()\n",
    "net"
   ]
  },
  {
   "cell_type": "code",
   "execution_count": 6,
   "metadata": {
    "collapsed": false
   },
   "outputs": [
    {
     "name": "stdout",
     "output_type": "stream",
     "text": [
      "Files already downloaded\n",
      "Files already downloaded\n",
      "train size: 60000, 28, 28\n"
     ]
    },
    {
     "data": {
      "image/png": "[encoded data removed]",
      "text/plain": [
       "<matplotlib.figure.Figure at 0x11b9d6ad0>"
      ]
     },
     "metadata": {},
     "output_type": "display_data"
    }
   ],
   "source": [
    "import torch\n",
    "\n",
    "#MNIST data\n",
    "import torchvision\n",
    "import torchvision.transforms as transforms\n",
    "transform = transforms.Compose(\n",
    "    [transforms.ToTensor(), transforms.Normalize((0.5, 0.5, 0.5), (0.5, 0.5, 0.5))]\n",
    ")\n",
    "\n",
    "trainset = torchvision.datasets.MNIST(root='./mnist', download=True, train=True, transform=transform)\n",
    "trainloader = torch.utils.data.DataLoader(trainset, batch_size=4, shuffle=True, num_workers=2)\n",
    "\n",
    "testset = torchvision.datasets.MNIST(root='./mnist', download=True, train=False, transform=transform)\n",
    "testloader = torch.utils.data.DataLoader(testset, shuffle=False, batch_size=4, num_workers=2)\n",
    "\n",
    "print('train size: %d, %d, %d' % trainset.train_data.size())\n",
    "\n",
    "import matplotlib.pyplot as plt\n",
    "import numpy as np\n",
    "%matplotlib inline\n",
    "def imshow(img):\n",
    "    img = img/2 + 0.5\n",
    "    npimg = img.numpy()\n",
    "    plt.imshow(np.transpose(npimg, (1,2,0)))\n",
    "\n",
    "dataiter = iter(trainloader)\n",
    "images, labels = dataiter.next()\n",
    "\n",
    "imshow(torchvision.utils.make_grid(images, padding=1, nrow=4))\n",
    "#print('labels:', labels)\n"
   ]
  },
  {
   "cell_type": "code",
   "execution_count": 4,
   "metadata": {
    "collapsed": false
   },
   "outputs": [
    {
     "name": "stdout",
     "output_type": "stream",
     "text": [
      "('len of params: ', 10)\n",
      "('size of ', 0, ' params: ', torch.Size([6, 1, 5, 5]))\n",
      "('size of ', 1, ' params: ', torch.Size([6]))\n",
      "('size of ', 2, ' params: ', torch.Size([16, 6, 5, 5]))\n",
      "('size of ', 3, ' params: ', torch.Size([16]))\n",
      "('size of ', 4, ' params: ', torch.Size([128, 256]))\n",
      "('size of ', 5, ' params: ', torch.Size([128]))\n",
      "('size of ', 6, ' params: ', torch.Size([64, 128]))\n",
      "('size of ', 7, ' params: ', torch.Size([64]))\n",
      "('size of ', 8, ' params: ', torch.Size([10, 64]))\n",
      "('size of ', 9, ' params: ', torch.Size([10]))\n",
      "[    0     0] loss: 0.001\n",
      "[    0  2000] loss: 1.157\n",
      "[    0  4000] loss: 0.204\n",
      "[    0  6000] loss: 0.139\n",
      "[    0  8000] loss: 0.121\n",
      "[    0 10000] loss: 0.099\n",
      "[    0 12000] loss: 0.089\n",
      "[    0 14000] loss: 0.075\n",
      "[    1     0] loss: 0.000\n",
      "[    1  2000] loss: 0.062\n",
      "[    1  4000] loss: 0.067\n",
      "[    1  6000] loss: 0.059\n",
      "[    1  8000] loss: 0.059\n",
      "[    1 10000] loss: 0.056\n",
      "[    1 12000] loss: 0.060\n",
      "[    1 14000] loss: 0.054\n",
      "Training complete\n"
     ]
    }
   ],
   "source": [
    "import torch.optim as optim\n",
    "\n",
    "criterion = nn.CrossEntropyLoss()\n",
    "optimizer = optim.SGD(net.parameters(), lr=0.001, momentum=0.9)\n",
    "params = list(net.parameters())\n",
    "print('len of params: ', len(params))\n",
    "for k in range(len(params)):\n",
    "    print('size of ',  k, ' params: ', params[k].size())\n",
    "    \n",
    "for epoch in range(2):\n",
    "    running_loss = 0.0\n",
    "    for i, data in enumerate(trainloader, 0):\n",
    "        inputs, labels = data\n",
    "        inputs, labels = Variable(inputs), Variable(labels)\n",
    "        optimizer.zero_grad()\n",
    "        output = net(inputs)\n",
    "        loss = criterion(output, labels)\n",
    "        loss.backward()\n",
    "        optimizer.step()\n",
    "        running_loss += loss.data[0]\n",
    "        if i % 2000 == 0:\n",
    "            print('[%5d %5d] loss: %.3f' % (epoch, i, running_loss/2000))\n",
    "            #print('conv1 bias grad', list(net.conv1.parameters())[0].grad)\n",
    "            running_loss = 0\n",
    "print('Training complete')\n",
    "\n"
   ]
  },
  {
   "cell_type": "code",
   "execution_count": 7,
   "metadata": {
    "collapsed": false
   },
   "outputs": [
    {
     "name": "stdout",
     "output_type": "stream",
     "text": [
      "('Groundtruth:', '    7     2     1     0')\n",
      "('predicted: ', '    7     2     1     0')\n"
     ]
    },
    {
     "data": {
      "image/png": "[encoded data removed]",
      "text/plain": [
       "<matplotlib.figure.Figure at 0x112914950>"
      ]
     },
     "metadata": {},
     "output_type": "display_data"
    }
   ],
   "source": [
    "dataiter = iter(testloader)\n",
    "images, labels = dataiter.next()\n",
    "\n",
    "imshow(torchvision.utils.make_grid(images))\n",
    "print('Groundtruth:', ' '.join('%5s' % labels[j] for j in range(4)))\n",
    "\n",
    "outputs = net(Variable(images))\n",
    "\n",
    "#outputs are the energies for the 10 class indexes\n",
    "_, predictions = torch.max(outputs.data, 1)\n",
    "print('predicted: ', ' '.join('%5s' % predictions[j][0] for j in range(4)))\n"
   ]
  },
  {
   "cell_type": "code",
   "execution_count": 8,
   "metadata": {
    "collapsed": false
   },
   "outputs": [
    {
     "name": "stdout",
     "output_type": "stream",
     "text": [
      "Accuracy: 98 %  \n"
     ]
    }
   ],
   "source": [
    "correct = 0\n",
    "total = 0\n",
    "for data in testloader:\n",
    "    images, labels = data\n",
    "    outputs = net(Variable(images))\n",
    "    _, predicted = torch.max(outputs.data, 1)\n",
    "    total += labels.size(0)\n",
    "    correct += (predicted == labels).sum()\n",
    "\n",
    "print('Accuracy: %d %%  ' % (100 * correct/total) )\n"
   ]
  },
  {
   "cell_type": "code",
   "execution_count": null,
   "metadata": {
    "collapsed": true
   },
   "outputs": [],
   "source": []
  }
 ],
 "metadata": {
  "anaconda-cloud": {},
  "kernelspec": {
   "display_name": "Python 2",
   "language": "python",
   "name": "python2"
  },
  "language_info": {
   "codemirror_mode": {
    "name": "ipython",
    "version": 2
   },
   "file_extension": ".py",
   "mimetype": "text/x-python",
   "name": "python",
   "nbconvert_exporter": "python",
   "pygments_lexer": "ipython2",
   "version": "2.7.13"
  }
 },
 "nbformat": 4,
 "nbformat_minor": 1
}
